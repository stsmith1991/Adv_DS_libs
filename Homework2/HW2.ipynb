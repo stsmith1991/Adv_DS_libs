{
  "nbformat": 4,
  "nbformat_minor": 0,
  "metadata": {
    "colab": {
      "name": "Untitled0.ipynb",
      "provenance": [],
      "toc_visible": true,
      "authorship_tag": "ABX9TyNDanTQhkQd+IZcUwKSUmmo",
      "include_colab_link": true
    },
    "kernelspec": {
      "name": "python3",
      "display_name": "Python 3"
    }
  },
  "cells": [
    {
      "cell_type": "markdown",
      "metadata": {
        "id": "view-in-github",
        "colab_type": "text"
      },
      "source": [
        "<a href=\"https://colab.research.google.com/github/stsmith1991/Adv_DS_libs/blob/main/Homework2/HW2.ipynb\" target=\"_parent\"><img src=\"https://colab.research.google.com/assets/colab-badge.svg\" alt=\"Open In Colab\"/></a>"
      ]
    },
    {
      "cell_type": "markdown",
      "metadata": {
        "id": "_4nCwBNJUtXg"
      },
      "source": [
        "## **Домашнее задание 3 и 4 по \"Библиотеки Data Scince: Numpy, Pandas...\"**"
      ]
    },
    {
      "cell_type": "markdown",
      "metadata": {
        "id": "EEtGQafyVTZC"
      },
      "source": [
        "# Задание 3.1"
      ]
    }
  ]
}