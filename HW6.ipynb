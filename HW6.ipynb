{
  "nbformat": 4,
  "nbformat_minor": 0,
  "metadata": {
    "colab": {
      "name": "HW6.ipynb",
      "provenance": [],
      "collapsed_sections": [],
      "authorship_tag": "ABX9TyMaamK7DdTvKHQhIq9o/lnE",
      "include_colab_link": true
    },
    "kernelspec": {
      "display_name": "Python 3",
      "name": "python3"
    }
  },
  "cells": [
    {
      "cell_type": "markdown",
      "metadata": {
        "id": "view-in-github",
        "colab_type": "text"
      },
      "source": [
        "<a href=\"https://colab.research.google.com/github/stsmith1991/Adv_DS_libs/blob/main/HW6.ipynb\" target=\"_parent\"><img src=\"https://colab.research.google.com/assets/colab-badge.svg\" alt=\"Open In Colab\"/></a>"
      ]
    },
    {
      "cell_type": "markdown",
      "metadata": {
        "id": "P31FUf7wgZMz"
      },
      "source": [
        "**Домашнее задание к урокам 4-6**"
      ]
    },
    {
      "cell_type": "code",
      "metadata": {
        "id": "2Xjd-hpCaVpE"
      },
      "source": [
        "#Импортирую библиoтеки\r\n",
        "import numpy as np\r\n",
        "import pandas as pd\r\n",
        "from sklearn.datasets import load_boston\r\n",
        "from sklearn.model_selection import train_test_split\r\n",
        "from sklearn.linear_model import LinearRegression\r\n",
        "from sklearn.metrics import r2_score as r2\r\n",
        "from matplotlib import pyplot as plt\r\n",
        "%matplotlib inline\r\n",
        "df = load_boston()\r\n",
        "all = df[\"data\"]\r\n",
        "observations = df[\"feature_names\"]\r\n",
        "target = df[\"target\"]\r\n",
        "X = pd.DataFrame(all, columns=observations)\r\n",
        "y = pd.DataFrame(target, columns=[\"price\"])"
      ],
      "execution_count": 119,
      "outputs": []
    },
    {
      "cell_type": "markdown",
      "metadata": {
        "id": "i3GuKU4Kj9AU"
      },
      "source": [
        "Задание 1."
      ]
    },
    {
      "cell_type": "code",
      "metadata": {
        "colab": {
          "base_uri": "https://localhost:8080/"
        },
        "id": "K2_wBRaNj_vF",
        "outputId": "c4566868-f79b-4b75-e6fd-26530a5c4c09"
      },
      "source": [
        "#Создаю обучающий фрем и массив с таргетом\r\n",
        "X_train, X_test, y_train, y_test = train_test_split(X, y, test_size=0.3, shuffle=True, random_state=42)\r\n",
        "#Создаю экземпляр объекта линейной регресси, передаю ему обучающую выборку и осуществляю обучение\r\n",
        "lr = LinearRegression()\r\n",
        "lr.fit(X_train, y_train)\r\n",
        "y_pred = lr.predict(X_test)\r\n",
        "#Вывожу полученные интерсепты\r\n",
        "y_pred[0, 0]"
      ],
      "execution_count": 120,
      "outputs": [
        {
          "output_type": "execute_result",
          "data": {
            "text/plain": [
              "28.648960046324063"
            ]
          },
          "metadata": {
            "tags": []
          },
          "execution_count": 120
        }
      ]
    },
    {
      "cell_type": "code",
      "metadata": {
        "colab": {
          "base_uri": "https://localhost:8080/",
          "height": 359
        },
        "id": "pC2rSv8EuQMs",
        "outputId": "ad65163a-30e5-4d3e-86f3-25aeb2bc2fcd"
      },
      "source": [
        "#Преобразую в массив и сравниваю точное с предсказанным\r\n",
        "check= pd.DataFrame({\r\n",
        "    \"Фактическое\": y_test[\"price\"],\r\n",
        "    \"Предсказанное\": y_pred.flatten()\r\n",
        "})\r\n",
        "check.head(10)"
      ],
      "execution_count": 121,
      "outputs": [
        {
          "output_type": "execute_result",
          "data": {
            "text/html": [
              "<div>\n",
              "<style scoped>\n",
              "    .dataframe tbody tr th:only-of-type {\n",
              "        vertical-align: middle;\n",
              "    }\n",
              "\n",
              "    .dataframe tbody tr th {\n",
              "        vertical-align: top;\n",
              "    }\n",
              "\n",
              "    .dataframe thead th {\n",
              "        text-align: right;\n",
              "    }\n",
              "</style>\n",
              "<table border=\"1\" class=\"dataframe\">\n",
              "  <thead>\n",
              "    <tr style=\"text-align: right;\">\n",
              "      <th></th>\n",
              "      <th>Фактическое</th>\n",
              "      <th>Предсказанное</th>\n",
              "    </tr>\n",
              "  </thead>\n",
              "  <tbody>\n",
              "    <tr>\n",
              "      <th>173</th>\n",
              "      <td>23.6</td>\n",
              "      <td>28.648960</td>\n",
              "    </tr>\n",
              "    <tr>\n",
              "      <th>274</th>\n",
              "      <td>32.4</td>\n",
              "      <td>36.495014</td>\n",
              "    </tr>\n",
              "    <tr>\n",
              "      <th>491</th>\n",
              "      <td>13.6</td>\n",
              "      <td>15.411193</td>\n",
              "    </tr>\n",
              "    <tr>\n",
              "      <th>72</th>\n",
              "      <td>22.8</td>\n",
              "      <td>25.403213</td>\n",
              "    </tr>\n",
              "    <tr>\n",
              "      <th>452</th>\n",
              "      <td>16.1</td>\n",
              "      <td>18.855280</td>\n",
              "    </tr>\n",
              "    <tr>\n",
              "      <th>76</th>\n",
              "      <td>20.0</td>\n",
              "      <td>23.146689</td>\n",
              "    </tr>\n",
              "    <tr>\n",
              "      <th>316</th>\n",
              "      <td>17.8</td>\n",
              "      <td>17.392124</td>\n",
              "    </tr>\n",
              "    <tr>\n",
              "      <th>140</th>\n",
              "      <td>14.0</td>\n",
              "      <td>14.078599</td>\n",
              "    </tr>\n",
              "    <tr>\n",
              "      <th>471</th>\n",
              "      <td>19.6</td>\n",
              "      <td>23.036927</td>\n",
              "    </tr>\n",
              "    <tr>\n",
              "      <th>500</th>\n",
              "      <td>16.8</td>\n",
              "      <td>20.599433</td>\n",
              "    </tr>\n",
              "  </tbody>\n",
              "</table>\n",
              "</div>"
            ],
            "text/plain": [
              "     Фактическое  Предсказанное\n",
              "173         23.6      28.648960\n",
              "274         32.4      36.495014\n",
              "491         13.6      15.411193\n",
              "72          22.8      25.403213\n",
              "452         16.1      18.855280\n",
              "76          20.0      23.146689\n",
              "316         17.8      17.392124\n",
              "140         14.0      14.078599\n",
              "471         19.6      23.036927\n",
              "500         16.8      20.599433"
            ]
          },
          "metadata": {
            "tags": []
          },
          "execution_count": 121
        }
      ]
    },
    {
      "cell_type": "code",
      "metadata": {
        "colab": {
          "base_uri": "https://localhost:8080/"
        },
        "id": "umYzt_eHvqnm",
        "outputId": "f0ae0adb-20f1-4b20-d314-3e1014292a6a"
      },
      "source": [
        "#Проверяю методом R-квадрат\r\n",
        "ln_miss=r2(y_test, y_pred)\r\n",
        "print(f'Поргрешность предсказаний линейной регрессии составляет {round(ln_miss, 2)} единиц')"
      ],
      "execution_count": 122,
      "outputs": [
        {
          "output_type": "stream",
          "text": [
            "Поргрешность предсказаний линейной регрессии составляет 0.71 единиц\n"
          ],
          "name": "stdout"
        }
      ]
    },
    {
      "cell_type": "markdown",
      "metadata": {
        "id": "FB0RYmQH2BUa"
      },
      "source": [
        "Задание 2."
      ]
    },
    {
      "cell_type": "code",
      "metadata": {
        "id": "eCIlvhNj2DoJ"
      },
      "source": [
        "#Загружаю требуемые библиотеки\r\n",
        "from sklearn.ensemble import RandomForestRegressor"
      ],
      "execution_count": 123,
      "outputs": []
    },
    {
      "cell_type": "code",
      "metadata": {
        "colab": {
          "base_uri": "https://localhost:8080/",
          "height": 359
        },
        "id": "gDqD2GAc2Jj5",
        "outputId": "f24b2610-3d0a-415c-f9b4-4a9757e13edd"
      },
      "source": [
        "#Инициация с требуемыми параметрами\r\n",
        "model=RandomForestRegressor(n_estimators=1000, max_depth=12, random_state=42)\r\n",
        "#Обучение модели\r\n",
        "model.fit(X_train,  y_train.values[:, 0])\r\n",
        "#Результаты и предварительная оценка\r\n",
        "y_forest = model.predict(X_test)\r\n",
        "second= pd.DataFrame({\r\n",
        "    \"Фактическое\": y_test[\"price\"],\r\n",
        "    \"Предсказанное\": y_forest.flatten()\r\n",
        "})\r\n",
        "second.head(10)"
      ],
      "execution_count": 124,
      "outputs": [
        {
          "output_type": "execute_result",
          "data": {
            "text/html": [
              "<div>\n",
              "<style scoped>\n",
              "    .dataframe tbody tr th:only-of-type {\n",
              "        vertical-align: middle;\n",
              "    }\n",
              "\n",
              "    .dataframe tbody tr th {\n",
              "        vertical-align: top;\n",
              "    }\n",
              "\n",
              "    .dataframe thead th {\n",
              "        text-align: right;\n",
              "    }\n",
              "</style>\n",
              "<table border=\"1\" class=\"dataframe\">\n",
              "  <thead>\n",
              "    <tr style=\"text-align: right;\">\n",
              "      <th></th>\n",
              "      <th>Фактическое</th>\n",
              "      <th>Предсказанное</th>\n",
              "    </tr>\n",
              "  </thead>\n",
              "  <tbody>\n",
              "    <tr>\n",
              "      <th>173</th>\n",
              "      <td>23.6</td>\n",
              "      <td>22.846138</td>\n",
              "    </tr>\n",
              "    <tr>\n",
              "      <th>274</th>\n",
              "      <td>32.4</td>\n",
              "      <td>31.156114</td>\n",
              "    </tr>\n",
              "    <tr>\n",
              "      <th>491</th>\n",
              "      <td>13.6</td>\n",
              "      <td>16.297226</td>\n",
              "    </tr>\n",
              "    <tr>\n",
              "      <th>72</th>\n",
              "      <td>22.8</td>\n",
              "      <td>23.821036</td>\n",
              "    </tr>\n",
              "    <tr>\n",
              "      <th>452</th>\n",
              "      <td>16.1</td>\n",
              "      <td>17.212148</td>\n",
              "    </tr>\n",
              "    <tr>\n",
              "      <th>76</th>\n",
              "      <td>20.0</td>\n",
              "      <td>21.820092</td>\n",
              "    </tr>\n",
              "    <tr>\n",
              "      <th>316</th>\n",
              "      <td>17.8</td>\n",
              "      <td>19.866369</td>\n",
              "    </tr>\n",
              "    <tr>\n",
              "      <th>140</th>\n",
              "      <td>14.0</td>\n",
              "      <td>14.759938</td>\n",
              "    </tr>\n",
              "    <tr>\n",
              "      <th>471</th>\n",
              "      <td>19.6</td>\n",
              "      <td>21.235224</td>\n",
              "    </tr>\n",
              "    <tr>\n",
              "      <th>500</th>\n",
              "      <td>16.8</td>\n",
              "      <td>20.883103</td>\n",
              "    </tr>\n",
              "  </tbody>\n",
              "</table>\n",
              "</div>"
            ],
            "text/plain": [
              "     Фактическое  Предсказанное\n",
              "173         23.6      22.846138\n",
              "274         32.4      31.156114\n",
              "491         13.6      16.297226\n",
              "72          22.8      23.821036\n",
              "452         16.1      17.212148\n",
              "76          20.0      21.820092\n",
              "316         17.8      19.866369\n",
              "140         14.0      14.759938\n",
              "471         19.6      21.235224\n",
              "500         16.8      20.883103"
            ]
          },
          "metadata": {
            "tags": []
          },
          "execution_count": 124
        }
      ]
    },
    {
      "cell_type": "code",
      "metadata": {
        "colab": {
          "base_uri": "https://localhost:8080/",
          "height": 142
        },
        "id": "0szAvdALwbJM",
        "outputId": "2efc5929-fb4f-49e1-e97f-4ecefc3ed52b"
      },
      "source": [
        "#сравниваю погрешности предсказаний\r\n",
        "forest_miss=r2(y_test, y_forest)\r\n",
        "result=pd.merge(left=check, right=second, left_on='Фактическое', right_on='Фактическое', suffixes=(' Лин.рег', '\" Лес\"'))\r\n",
        "result.head(3)"
      ],
      "execution_count": 132,
      "outputs": [
        {
          "output_type": "execute_result",
          "data": {
            "text/html": [
              "<div>\n",
              "<style scoped>\n",
              "    .dataframe tbody tr th:only-of-type {\n",
              "        vertical-align: middle;\n",
              "    }\n",
              "\n",
              "    .dataframe tbody tr th {\n",
              "        vertical-align: top;\n",
              "    }\n",
              "\n",
              "    .dataframe thead th {\n",
              "        text-align: right;\n",
              "    }\n",
              "</style>\n",
              "<table border=\"1\" class=\"dataframe\">\n",
              "  <thead>\n",
              "    <tr style=\"text-align: right;\">\n",
              "      <th></th>\n",
              "      <th>Фактическое</th>\n",
              "      <th>Предсказанное Лин.рег</th>\n",
              "      <th>Предсказанное\" Лес\"</th>\n",
              "    </tr>\n",
              "  </thead>\n",
              "  <tbody>\n",
              "    <tr>\n",
              "      <th>0</th>\n",
              "      <td>23.6</td>\n",
              "      <td>28.648960</td>\n",
              "      <td>22.846138</td>\n",
              "    </tr>\n",
              "    <tr>\n",
              "      <th>1</th>\n",
              "      <td>32.4</td>\n",
              "      <td>36.495014</td>\n",
              "      <td>31.156114</td>\n",
              "    </tr>\n",
              "    <tr>\n",
              "      <th>2</th>\n",
              "      <td>13.6</td>\n",
              "      <td>15.411193</td>\n",
              "      <td>16.297226</td>\n",
              "    </tr>\n",
              "  </tbody>\n",
              "</table>\n",
              "</div>"
            ],
            "text/plain": [
              "   Фактическое  Предсказанное Лин.рег  Предсказанное\" Лес\"\n",
              "0         23.6              28.648960            22.846138\n",
              "1         32.4              36.495014            31.156114\n",
              "2         13.6              15.411193            16.297226"
            ]
          },
          "metadata": {
            "tags": []
          },
          "execution_count": 132
        }
      ]
    },
    {
      "cell_type": "code",
      "metadata": {
        "colab": {
          "base_uri": "https://localhost:8080/"
        },
        "id": "nKY2L2rsBOuT",
        "outputId": "addc932a-b689-41e4-9cf7-ba8dd80e175d"
      },
      "source": [
        "if ln_miss>forest_miss:\r\n",
        "  print('Предсказание методом случайного леса точнее')\r\n",
        "elif ln_miss<forest_miss:\r\n",
        "  print('Предсказание методом линейной регрессии точнее')\r\n",
        "else:\r\n",
        "  print('Предсказания одинаковы по точности')"
      ],
      "execution_count": 126,
      "outputs": [
        {
          "output_type": "stream",
          "text": [
            "Предсказание методом линейной регрессии точнее\n"
          ],
          "name": "stdout"
        }
      ]
    }
  ]
}
