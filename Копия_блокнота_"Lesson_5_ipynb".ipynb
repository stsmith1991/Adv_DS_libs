{
  "nbformat": 4,
  "nbformat_minor": 0,
  "metadata": {
    "colab": {
      "name": "Копия блокнота \"Lesson_5.ipynb\"",
      "provenance": [],
      "collapsed_sections": [],
      "include_colab_link": true
    },
    "kernelspec": {
      "display_name": "Python 3",
      "language": "python",
      "name": "python3"
    },
    "language_info": {
      "codemirror_mode": {
        "name": "ipython",
        "version": 3
      },
      "file_extension": ".py",
      "mimetype": "text/x-python",
      "name": "python",
      "nbconvert_exporter": "python",
      "pygments_lexer": "ipython3",
      "version": "3.8.10"
    }
  },
  "cells": [
    {
      "cell_type": "markdown",
      "metadata": {
        "id": "view-in-github",
        "colab_type": "text"
      },
      "source": [
        "<a href=\"https://colab.research.google.com/github/stsmith1991/Adv_DS_libs/blob/main/%D0%9A%D0%BE%D0%BF%D0%B8%D1%8F_%D0%B1%D0%BB%D0%BE%D0%BA%D0%BD%D0%BE%D1%82%D0%B0_%22Lesson_5_ipynb%22.ipynb\" target=\"_parent\"><img src=\"https://colab.research.google.com/assets/colab-badge.svg\" alt=\"Open In Colab\"/></a>"
      ]
    },
    {
      "cell_type": "markdown",
      "metadata": {
        "id": "zz7SDkPIkVlM"
      },
      "source": [
        "# Домашнее задание по теме 5 "
      ]
    },
    {
      "cell_type": "markdown",
      "metadata": {
        "id": "aU5YNMH9kVqP"
      },
      "source": [
        "## Практическое задание"
      ]
    },
    {
      "cell_type": "markdown",
      "metadata": {
        "id": "3SGdYUi3M1TW"
      },
      "source": [
        ""
      ]
    },
    {
      "cell_type": "markdown",
      "metadata": {
        "id": "-VLts3NTM1zw"
      },
      "source": [
        "__1.__ Найти производную функции:\n",
        "\n",
        "### $$y=\\frac{1}{x}+\\frac{2}{x^2}-\\frac{5}{x^3}+\\sqrt x -\\sqrt[3]x+\\frac{3}{\\sqrt x}$$"
      ]
    },
    {
      "cell_type": "markdown",
      "metadata": {
        "id": "SmdURZ_OkVqQ"
      },
      "source": [
        "_Решение_\n",
        "\n",
        "1.   ### $$(\\frac{1}{x})'=-\\frac{1}{x^2}$$\n",
        "2.   ### $$(\\frac{2}{x^2})=$$\n",
        "\n"
      ]
    },
    {
      "cell_type": "markdown",
      "metadata": {
        "id": "cECfCSANkVqR"
      },
      "source": [
        "__2.__ Найти производную функции:\n",
        "\n",
        "### $$y=x \\cdot \\sqrt {1+x^2}$$"
      ]
    },
    {
      "cell_type": "markdown",
      "metadata": {
        "id": "AR4T-PuoOEBH"
      },
      "source": [
        "_Решение_\n",
        " \n",
        " \n",
        "1.   $$(y)'=(x)'\\cdot(\\sqrt{1+x^2})'$$\n",
        "по правилу $$(uv)'=u'v\\cdot uv'$$\n",
        "2.   $$(x)' = 1$$\n",
        "3.   $$(\\sqrt{1+x^2})'=\\frac{x}{\\sqrt{x+1^2}}$$\n",
        "подствляем значения внутренней и внешиних производных в формулу:\n",
        "4.   $$(y)'=1\\cdot \\sqrt{1+x^2} \\cdot x \\cdot \\frac{x}{\\sqrt{x+1^2}}$$\n",
        "5.   $$(y)'= \\frac{\\sqrt{1+x^2}\\cdot x^2}{\\sqrt{1+x^2}}$$\n",
        "6.   $$(y)'=x^2$$"
      ]
    },
    {
      "cell_type": "markdown",
      "metadata": {
        "id": "DFrjdtbHkVqS"
      },
      "source": [
        "__3.__ Найти производную функции:\n",
        " \n",
        "### $$y= \\frac{2x}{1-x^2}$$"
      ]
    },
    {
      "cell_type": "markdown",
      "metadata": {
        "id": "w4Wnhr848cAo"
      },
      "source": [
        " _Решение_\n",
        "1.   константа 2 производной выносится за её пределы:\n",
        "### $$(y)'=2 /cdot( /frac{x}{1-x})'$$\n",
        "$$y= 2\\cdot(\\frac{x}{1-x})'$$\n",
        "2.   производная частного находится по формуле $$(\\frac{u}{v})'=\\frac{u'v-uv'}{v^2}$$\n",
        "таким образом\n",
        "$$(y)'=2 \\cdot \\frac{1\\cdot(-x+1)-x\\cdot(-1)}{-x+1}$$"
      ]
    },
    {
      "cell_type": "markdown",
      "metadata": {
        "id": "5la-eVLukVqT"
      },
      "source": [
        "__4*.__ Найти производную функции:\n",
        "\n",
        "### $$y=\\sqrt{x+ \\sqrt{x+\\sqrt x}}$$"
      ]
    },
    {
      "cell_type": "markdown",
      "metadata": {
        "id": "kQlell_GkVqU"
      },
      "source": [
        "__5.__ Найти производную функции:\n",
        " \n",
        "### $$y= \\ln(x+\\sqrt{x^2+1})$$"
      ]
    },
    {
      "cell_type": "markdown",
      "metadata": {
        "id": "mr1qh08iFlgq"
      },
      "source": [
        "_Решение_\n"
      ]
    },
    {
      "cell_type": "markdown",
      "metadata": {
        "id": "GEqcRUkxPKrk"
      },
      "source": [
        "__6.__ Найти производную функции:\n",
        "\n",
        "### $$y=x \\cdot \\ln(x+\\sqrt{x^2+1})-\\sqrt{x^2+1}$$"
      ]
    },
    {
      "cell_type": "markdown",
      "metadata": {
        "id": "-dDOmQg4PKrl"
      },
      "source": [
        "__7*.__ Найти производную функции:\n",
        "\n",
        "### $$y=\\arcsin (\\sin x)$$"
      ]
    },
    {
      "cell_type": "markdown",
      "metadata": {
        "id": "ByOBP9mhPKrq"
      },
      "source": [
        "__8*.__ Вычислить приближенное значение: \n",
        "\n",
        "### $$\\sin(1^0)=\\sin\\Bigl(\\frac{\\pi}{180}\\Bigr)$$\n"
      ]
    },
    {
      "cell_type": "markdown",
      "metadata": {
        "id": "OIViV6yuPKrr"
      },
      "source": [
        "__9**.__ Написать на python алгоритм, по вычислению значений $\\sin(x)$ для $х \\in[0, 30^0]$\n",
        "\n",
        "Для проверки подойдут данные из таблицы Брадиса"
      ]
    },
    {
      "cell_type": "markdown",
      "metadata": {
        "id": "Iv-T_NZAkVqZ"
      },
      "source": [
        "## Дополнительные материалы"
      ]
    },
    {
      "cell_type": "markdown",
      "metadata": {
        "id": "9o_SiUNxkVqa"
      },
      "source": [
        "1. [SymPy](https://www.sympy.org/en/index.html)"
      ]
    },
    {
      "cell_type": "markdown",
      "metadata": {
        "id": "ttm-Y_TnPX_n"
      },
      "source": [
        "### Где почитать дополнительно?\n",
        "\n",
        "Зорич I том:\n",
        "\n",
        "- Глава IV;\n",
        "- Глава V (параграф 1-4);"
      ]
    },
    {
      "cell_type": "code",
      "metadata": {
        "id": "lqLkzc3FKiJG"
      },
      "source": [
        ""
      ],
      "execution_count": null,
      "outputs": []
    }
  ]
}