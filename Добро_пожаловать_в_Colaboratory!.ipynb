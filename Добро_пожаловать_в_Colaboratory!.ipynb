{
  "nbformat": 4,
  "nbformat_minor": 0,
  "metadata": {
    "colab": {
      "name": "Добро пожаловать в Colaboratory!",
      "provenance": [],
      "collapsed_sections": [],
      "toc_visible": true,
      "include_colab_link": true
    },
    "kernelspec": {
      "display_name": "Python 3",
      "name": "python3"
    }
  },
  "cells": [
    {
      "cell_type": "markdown",
      "metadata": {
        "id": "view-in-github",
        "colab_type": "text"
      },
      "source": [
        "<a href=\"https://colab.research.google.com/github/stsmith1991/Adv_DS_libs/blob/stsmith1991-patch-1/%D0%94%D0%BE%D0%B1%D1%80%D0%BE_%D0%BF%D0%BE%D0%B6%D0%B0%D0%BB%D0%BE%D0%B2%D0%B0%D1%82%D1%8C_%D0%B2_Colaboratory!.ipynb\" target=\"_parent\"><img src=\"https://colab.research.google.com/assets/colab-badge.svg\" alt=\"Open In Colab\"/></a>"
      ]
    },
    {
      "cell_type": "markdown",
      "metadata": {
        "id": "5fCEDCU_qrC0"
      },
      "source": [
        "<p><img alt=\"Colaboratory logo\" height=\"45px\" src=\"/img/colab_favicon.ico\" align=\"left\" hspace=\"10px\" vspace=\"0px\"></p>\n",
        "\n",
        "<h1>Что такое Colaboratory?</h1>\n",
        "\n",
        "Colaboratory, или просто Colab, позволяет писать и выполнять код Python в браузере. При этом:\n",
        "- не требуется никакой настройки;\n",
        "- вы получаете бесплатный доступ к графическим процессорам;\n",
        "- предоставлять доступ к документам другим людям очень просто.\n",
        "\n",
        "Это отличное решение для <strong>студентов</strong>, <strong>специалистов по обработке данных</strong> и <strong>исследователей в области искусственного интеллекта</strong>. Чтобы узнать больше, посмотрите <a href=\"https://www.youtube.com/watch?v=inN8seMm7UI\">ознакомительное видео</a> или начните работу с инструментом ниже."
      ]
    },
    {
      "cell_type": "markdown",
      "metadata": {
        "id": "GJBs_flRovLc"
      },
      "source": [
        "## <strong>Начало работы</strong>\n",
        "\n",
        "Документ, который вы читаете, размещен не на статической веб-странице, а в интерактивной среде под названием <strong>блокнот Colab</strong>, позволяющей писать и выполнять код.\n",
        "\n",
        "Например, вот <strong>ячейка</strong> с коротким скриптом Python, который позволяет рассчитать значение, выразить его в виде переменной и распечатать результат:"
      ]
    },
    {
      "cell_type": "code",
      "metadata": {
        "colab": {
          "base_uri": "https://localhost:8080/"
        },
        "id": "gJr_9dXGpJ05",
        "outputId": "8e9798ae-2025-4997-8f39-9af7fde32976"
      },
      "source": [
        "seconds_in_a_day = 24 * 60 * 60\n",
        "seconds_in_a_day"
      ],
      "execution_count": 1,
      "outputs": [
        {
          "output_type": "execute_result",
          "data": {
            "text/plain": [
              "86400"
            ]
          },
          "metadata": {
            "tags": []
          },
          "execution_count": 1
        }
      ]
    },
    {
      "cell_type": "markdown",
      "metadata": {
        "id": "2fhs6GZ4qFMx"
      },
      "source": [
        "Чтобы выполнить код в ячейке выше, выберите ее, а затем нажмите кнопку воспроизведения слева от кода или используйте сочетание клавиш Cmd/Ctrl + Ввод. Чтобы изменить код, достаточно нажать на ячейку.\n",
        "\n",
        "Переменные, заданные в одной ячейке, можно будет использовать в других ячейках:"
      ]
    },
    {
      "cell_type": "code",
      "metadata": {
        "colab": {
          "base_uri": "https://localhost:8080/",
          "height": 34
        },
        "id": "-gE-Ez1qtyIA",
        "outputId": "94cb2224-0edf-457b-90b5-0ac3488d8a97"
      },
      "source": [
        "seconds_in_a_week = 7 * seconds_in_a_day\n",
        "seconds_in_a_week"
      ],
      "execution_count": null,
      "outputs": [
        {
          "output_type": "execute_result",
          "data": {
            "text/plain": [
              "604800"
            ]
          },
          "metadata": {
            "tags": []
          },
          "execution_count": 0
        }
      ]
    },
    {
      "cell_type": "markdown",
      "metadata": {
        "id": "lSrWNr3MuFUS"
      },
      "source": [
        "Благодаря блокнотам Colab вы можете использовать в одном документе <strong>исполняемый код</strong>, <strong>форматированный текст</strong>, <strong>изображения</strong>, <strong>разметку HTML</strong>, <strong>набор LaTeX</strong> и не только. Блокноты Colab будут храниться на вашем Google Диске. Вы сможете открыть к ним доступ коллегам или друзьям, разрешив им просматривать или даже редактировать документ, а также оставлять комментарии. Подробная информация доступна на <a href=\"/notebooks/basic_features_overview.ipynb\">этой странице</a>. Чтобы создать блокнот Colab, можно воспользоваться меню \"Файл\" выше или <a href=\"http://colab.research.google.com#create=true\">перейти по этой ссылке</a>.\n",
        "\n",
        "Блокноты Colab – это блокноты Jupyter, которые размещены в сервисе Colab. Подробная информация о проекте Jupyter доступна на сайте <a href=\"https://www.jupyter.org\">jupyter.org</a>."
      ]
    },
    {
      "cell_type": "markdown",
      "metadata": {
        "id": "UdRyKR44dcNI"
      },
      "source": [
        "## Анализ и обработка данных\n",
        "\n",
        "Colab позволяет использовать для анализа и визуализации данных все возможности популярных библиотек Python. Например, в ячейке ниже используется библиотека <strong>numpy</strong> для генерации случайных данных, а также библиотека <strong>matplotlib</strong> для их визуализации. Чтобы изменить код, достаточно нажать на ячейку."
      ]
    },
    {
      "cell_type": "code",
      "metadata": {
        "colab": {
          "base_uri": "https://localhost:8080/",
          "height": 281
        },
        "id": "C4HZx7Gndbrh",
        "outputId": "3f35abe1-ba3a-47fe-e1f4-1e763941eed5"
      },
      "source": [
        "import numpy as np\n",
        "from matplotlib import pyplot as plt\n",
        "\n",
        "ys = 200 + np.random.randn(100)\n",
        "x = [x for x in range(len(ys))]\n",
        "\n",
        "plt.plot(x, ys, '-')\n",
        "plt.fill_between(x, ys, 195, where=(ys > 195), facecolor='g', alpha=0.6)\n",
        "\n",
        "plt.title(\"Sample Visualization\")\n",
        "plt.show()"
      ],
      "execution_count": 4,
      "outputs": [
        {
          "output_type": "display_data",
          "data": {
            "image/png": "[encoded data removed]",
            "text/plain": [
              "<Figure size 432x288 with 1 Axes>"
            ]
          },
          "metadata": {
            "tags": [],
            "needs_background": "light"
          }
        }
      ]
    },
    {
      "cell_type": "markdown",
      "metadata": {
        "id": "4_kCnsPUqS6o"
      },
      "source": [
        "Вы можете импортировать в блокноты Colab данные из своего аккаунта Google Диска, в том числе из таблиц, а также из GitHub и многих других источников. Чтобы узнать больше об импорте данных и о том, как можно использовать Colab для их анализа и обработки, изучите ссылки в разделе <a href=\"#working-with-data\">Работа с данными</a>."
      ]
    },
    {
      "cell_type": "markdown",
      "metadata": {
        "id": "OwuxHmxllTwN"
      },
      "source": [
        "## Машинное обучение\n",
        "\n",
        "В Colab вы можете импортировать набор данных изображения, сориентировать на него классификатор изображений и оценить модель с помощью <a href=\"https://colab.research.google.com/github/tensorflow/docs/blob/master/site/en/tutorials/quickstart/beginner.ipynb\">нескольких строк кода</a>. Код в блокнотах Colab исполняется на облачных серверах Google. Это означает, что вы можете использовать аппаратное обеспечение Google, <a href=\"#using-accelerated-hardware\">в том числе графические процессоры и TPU</a>, независимо от мощности вашей машины. Вам нужен только браузер."
      ]
    },
    {
      "cell_type": "markdown",
      "metadata": {
        "id": "ufxBm1yRnruN"
      },
      "source": [
        "Colab активно используется в области машинного обучения, в том числе для:\n",
        "- знакомства с TensorFlow;\n",
        "- разработки и обучения нейронных сетей;\n",
        "- экспериментов с TPU;\n",
        "- распространения исследований в области ИИ;\n",
        "- создания руководств.\n",
        "\n",
        "Примеры использования блокнотов Colab в сфере машинного обучения приведены в разделе <a href=\"#machine-learning-examples\">Примеры использования в машинном обучении</a> ниже."
      ]
    },
    {
      "cell_type": "markdown",
      "metadata": {
        "id": "-Rh3-Vt9Nev9"
      },
      "source": [
        "## Ресурсы по теме\n",
        "\n",
        "### Работа с блокнотами в Colab\n",
        "- [Общие сведения о Colaboratory](/notebooks/basic_features_overview.ipynb)\n",
        "- [Руководство для Markdown](/notebooks/markdown_guide.ipynb)\n",
        "- [Импорт библиотек и установка зависимостей](/notebooks/snippets/importing_libraries.ipynb)\n",
        "- [Сохранение и загрузка блокнотов в GitHub](https://colab.research.google.com/github/googlecolab/colabtools/blob/master/notebooks/colab-github-demo.ipynb)\n",
        "- [Интерактивные формы](/notebooks/forms.ipynb)\n",
        "- [Интерактивные виджеты](/notebooks/widgets.ipynb)\n",
        "- <img src=\"/img/new.png\" height=\"20px\" align=\"left\" hspace=\"4px\" alt=\"New\"></img>\n",
        " [TensorFlow 2 в Colab](/notebooks/tensorflow_version.ipynb)\n",
        "\n",
        "<a name=\"working-with-data\"></a>\n",
        "### Работа с данными\n",
        "- [Загрузка данных: Диск, Таблицы и Google Cloud Storage](/notebooks/io.ipynb) \n",
        "- [Диаграмма: визуализация данных](/notebooks/charts.ipynb)\n",
        "- [Начало работы с BigQuery](/notebooks/bigquery.ipynb)\n",
        "\n",
        "### Экспресс-курс по машинному обучению\n",
        "Вот несколько блокнотов из онлайн-курса по машинному обучению от Google. Ещё больше информации доступно на <a href=\"https://developers.google.com/machine-learning/crash-course/\">сайте курса</a>.\n",
        "- [Введение в pandas](/notebooks/mlcc/intro_to_pandas.ipynb)\n",
        "- [Концепции TensorFlow](/notebooks/mlcc/tensorflow_programming_concepts.ipynb)\n",
        "- [Начало работы с TensorFlow](/notebooks/mlcc/first_steps_with_tensor_flow.ipynb)\n",
        "- [Введение в нейросети](/notebooks/mlcc/intro_to_neural_nets.ipynb)\n",
        "- [Введение в разреженные данные и встраивания](/notebooks/mlcc/intro_to_sparse_data_and_embeddings.ipynb)\n",
        "\n",
        "<a name=\"using-accelerated-hardware\"></a>\n",
        "### Использование ускорителей\n",
        "- [TensorFlow с графическими процессорами](/notebooks/gpu.ipynb)\n",
        "- [TensorFlow с TPU](/notebooks/tpu.ipynb)"
      ]
    },
    {
      "cell_type": "markdown",
      "metadata": {
        "id": "P-H6Lw1vyNNd"
      },
      "source": [
        "<a name=\"machine-learning-examples\"></a>\n",
        "\n",
        "## Примеры использования в машинном обучении\n",
        "\n",
        "Подробные примеры интерактивного анализа, выполняемого с помощью машинного обучения и доступного благодаря платформе Colaboratory, можно найти в этих руководствах. В них используются модели с сайта <a href=\"https://tfhub.dev\">TensorFlow Hub</a>.\n",
        "\n",
        "Несколько примеров:\n",
        "\n",
        "- <a href=\"https://tensorflow.org/hub/tutorials/tf2_image_retraining\">Обучение классификатора изображений</a>. Используя предварительно обученный классификатор изображений, создайте модель Keras для распознавания цветов.\n",
        "- <a href=\"https://tensorflow.org/hub/tutorials/tf2_text_classification\">Классификация текста</a>. Разделите отзывы на сайте IMDb на <em>положительные</em> и <em>отрицательные</em>.\n",
        "- <a href=\"https://tensorflow.org/hub/tutorials/tf2_arbitrary_image_stylization\">Перенос стиля</a>. Используйте модель глубокого обучения, чтобы переносить стиль с одного изображения на другое.\n",
        "- <a href=\"https://tensorflow.org/hub/tutorials/retrieval_with_tf_hub_universal_encoder_qa\">Вопросно-ответный универсальный многоязычный кодировщик</a>. Используйте модель машинного обучения, чтобы отвечать на вопросы из набора данных SQuAD.\n",
        "- <a href=\"https://tensorflow.org/hub/tutorials/tweening_conv3d\">Интерполяция видео.</a> Спрогнозируйте, что произошло между первым и последним кадрами видео.\n"
      ]
    }
  ]
}