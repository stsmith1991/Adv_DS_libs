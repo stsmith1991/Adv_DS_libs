{
  "nbformat": 4,
  "nbformat_minor": 0,
  "metadata": {
    "colab": {
      "name": "Untitled3.ipynb",
      "provenance": [],
      "collapsed_sections": [],
      "authorship_tag": "ABX9TyO2b7hDh1ZgPOCwkWgwkmZC",
      "include_colab_link": true
    },
    "kernelspec": {
      "name": "python3",
      "display_name": "Python 3"
    },
    "language_info": {
      "name": "python"
    }
  },
  "cells": [
    {
      "cell_type": "markdown",
      "metadata": {
        "id": "view-in-github",
        "colab_type": "text"
      },
      "source": [
        "<a href=\"https://colab.research.google.com/github/stsmith1991/Adv_DS_libs/blob/main/AlgsHW2.ipynb\" target=\"_parent\"><img src=\"https://colab.research.google.com/assets/colab-badge.svg\" alt=\"Open In Colab\"/></a>"
      ]
    },
    {
      "cell_type": "markdown",
      "metadata": {
        "id": "n_YeELa8F-k6"
      },
      "source": [
        "**Домашнее задание 2.**"
      ]
    },
    {
      "cell_type": "markdown",
      "metadata": {
        "id": "uV2B6W71F3sd"
      },
      "source": [
        "Загрузка библиотек и настройки дробей"
      ]
    },
    {
      "cell_type": "code",
      "metadata": {
        "id": "3_rCbBQ6E-rA"
      },
      "source": [
        "import pandas as pd\n",
        "import numpy as np\n",
        "from sklearn import datasets\n",
        "import matplotlib.pyplot as plt\n",
        "from sklearn.preprocessing import RobustScaler\n",
        "\n",
        "%matplotlib inline\n",
        "pd.set_option('display.float_format', '{:.2f}'.format)"
      ],
      "execution_count": 19,
      "outputs": []
    },
    {
      "cell_type": "markdown",
      "metadata": {
        "id": "BMwH2VRVGFgJ"
      },
      "source": [
        "Генерирую датасет"
      ]
    },
    {
      "cell_type": "code",
      "metadata": {
        "colab": {
          "base_uri": "https://localhost:8080/"
        },
        "id": "M3zrOeeaGPD-",
        "outputId": "1a84bf86-a718-4f38-a6de-e572b88691a6"
      },
      "source": [
        "data, target, coef = datasets.make_regression(n_samples=12000, n_features = 4, n_informative = 2, n_targets = 1, \n",
        "                                              noise = 8, coef = True, random_state = 12)\n",
        "data"
      ],
      "execution_count": 9,
      "outputs": [
        {
          "output_type": "execute_result",
          "data": {
            "text/plain": [
              "array([[-0.09515472, -0.43322778,  1.19254077,  0.80996539],\n",
              "       [ 0.91262452, -0.80058361, -1.13013822, -0.46116899],\n",
              "       [-0.77888267,  0.93029   , -1.13892522, -1.31728116],\n",
              "       ...,\n",
              "       [-0.81589692, -1.71778315, -0.49947261, -0.90782999],\n",
              "       [ 0.95429808,  0.13182473, -0.08929955, -0.75712758],\n",
              "       [ 0.44698124, -0.88264452,  0.5092503 , -0.07205479]])"
            ]
          },
          "metadata": {},
          "execution_count": 9
        }
      ]
    },
    {
      "cell_type": "markdown",
      "metadata": {
        "id": "8LVetQ-_OD-K"
      },
      "source": [
        "Нормализую массив"
      ]
    },
    {
      "cell_type": "code",
      "metadata": {
        "id": "ZCRczUhnOF0X"
      },
      "source": [
        "n_data[0] = (data[0] - data[0].min()) / (data[0].max() - data[0].min())\n",
        "n_data[1] = (data[1] - data[1].min()) / (data[1].max() - data[1].min())\n",
        "n_data[2] = (data[2] - data[2].min()) / (data[2].max() - data[2].min())\n",
        "n_data[3] = (data[3] - data[3].min()) / (data[3].max() - data[3].min())\n",
        "n_data=n_data.astype(np.float64)\n",
        "#Длше не успел"
      ],
      "execution_count": 17,
      "outputs": []
    }
  ]
}